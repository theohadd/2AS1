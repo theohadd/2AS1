{
 "cells": [
  {
   "cell_type": "code",
   "execution_count": 1,
   "id": "b655d07d-e7f7-4a24-99bb-d52a517642fb",
   "metadata": {},
   "outputs": [],
   "source": [
    "# Jupyter > VSCode"
   ]
  },
  {
   "cell_type": "code",
   "execution_count": null,
   "id": "de90caf1-ab6d-4173-9d63-28282bca3a6d",
   "metadata": {},
   "outputs": [],
   "source": []
  }
 ],
 "metadata": {
  "kernelspec": {
   "display_name": "Python 3 (ipykernel)",
   "language": "python",
   "name": "python3"
  },
  "language_info": {
   "codemirror_mode": {
    "name": "ipython",
    "version": 3
   },
   "file_extension": ".py",
   "mimetype": "text/x-python",
   "name": "python",
   "nbconvert_exporter": "python",
   "pygments_lexer": "ipython3",
   "version": "3.12.6"
  }
 },
 "nbformat": 4,
 "nbformat_minor": 5
}
